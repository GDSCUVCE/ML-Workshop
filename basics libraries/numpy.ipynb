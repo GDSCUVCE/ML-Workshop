{
 "cells": [
  {
   "cell_type": "code",
   "execution_count": null,
   "metadata": {},
   "outputs": [],
   "source": [
    "# Import NumPy library\n",
    "import numpy as np\n"
   ]
  },
  {
   "cell_type": "code",
   "execution_count": null,
   "metadata": {},
   "outputs": [],
   "source": [
    "# Creating a 1-dimensional array\n",
    "arr1 = np.array([1, 2, 3, 4, 5])\n",
    "\n",
    "# Creating a 2-dimensional array\n",
    "arr2 = np.array([[1, 2, 3], [4, 5, 6]])\n",
    "\n"
   ]
  },
  {
   "cell_type": "code",
   "execution_count": null,
   "metadata": {},
   "outputs": [],
   "source": [
    "print(arr1)\n",
    "print(arr2)"
   ]
  },
  {
   "cell_type": "code",
   "execution_count": null,
   "metadata": {},
   "outputs": [],
   "source": [
    "# Shape of the arrays\n",
    "shape_arr1 = arr1.shape\n",
    "shape_arr2 = arr2.shape\n",
    "\n"
   ]
  },
  {
   "cell_type": "code",
   "execution_count": null,
   "metadata": {},
   "outputs": [],
   "source": [
    "print(shape_arr1)\n",
    "print(shape_arr2)"
   ]
  },
  {
   "cell_type": "code",
   "execution_count": null,
   "metadata": {},
   "outputs": [],
   "source": [
    "# Reshape an array\n",
    "arr1_reshaped = arr1.reshape((5, 1))\n",
    "\n"
   ]
  },
  {
   "cell_type": "code",
   "execution_count": null,
   "metadata": {},
   "outputs": [],
   "source": [
    "print(arr1_reshaped)"
   ]
  },
  {
   "cell_type": "code",
   "execution_count": null,
   "metadata": {},
   "outputs": [],
   "source": [
    "# Accessing elements in an array\n",
    "element_1d = arr1[2]\n",
    "element_2d = arr2[1, 2]\n",
    "\n"
   ]
  },
  {
   "cell_type": "code",
   "execution_count": null,
   "metadata": {},
   "outputs": [],
   "source": [
    "print(element_1d)\n",
    "print(element_2d)"
   ]
  },
  {
   "cell_type": "code",
   "execution_count": null,
   "metadata": {},
   "outputs": [],
   "source": [
    "# Array slicing\n",
    "slice_arr1 = arr1[1:4]\n",
    "slice_arr2 = arr2[:, 1:]\n",
    "\n"
   ]
  },
  {
   "cell_type": "code",
   "execution_count": null,
   "metadata": {},
   "outputs": [],
   "source": [
    "print(slice_arr1)\n",
    "print(slice_arr2)"
   ]
  },
  {
   "cell_type": "code",
   "execution_count": null,
   "metadata": {},
   "outputs": [],
   "source": [
    "# Dot product of two arrays\n",
    "dot_product = np.dot(arr1, arr1_reshaped)\n",
    "\n"
   ]
  },
  {
   "cell_type": "code",
   "execution_count": null,
   "metadata": {},
   "outputs": [],
   "source": [
    "print(dot_product)"
   ]
  },
  {
   "cell_type": "code",
   "execution_count": null,
   "metadata": {},
   "outputs": [],
   "source": [
    "# Element-wise exponential function\n",
    "exp_arr1 = np.exp(arr1)\n",
    "# np.exp() computes the element-wise exponential of each element in the input array (arr1).\n",
    "# It raises the mathematical constant 'e' to the power of each element in arr1.\n",
    "\n",
    "# Element-wise natural logarithm\n",
    "log_arr1 = np.log(arr1)\n",
    "# np.log() calculates the natural logarithm (base e) of each element in the input array (arr1).\n",
    "# It returns an array where each element is the natural logarithm of the corresponding element in arr1.\n",
    "\n",
    "# Element-wise sine function\n",
    "sin_arr1 = np.sin(arr1)\n",
    "# np.sin() computes the sine of each element in the input array (arr1).\n",
    "# It returns an array where each element is the sine of the corresponding element in arr1.\n",
    "\n",
    "# Displaying the results\n",
    "print(\"Original Array:\", arr1)\n",
    "print(\"Element-wise Exponential:\", exp_arr1)\n",
    "print(\"Element-wise Natural Logarithm:\", log_arr1)\n",
    "print(\"Element-wise Sine:\", sin_arr1)\n"
   ]
  },
  {
   "cell_type": "code",
   "execution_count": null,
   "metadata": {},
   "outputs": [],
   "source": [
    "# Statistical operations\n",
    "\n",
    "# Calculating the mean (average) of the array\n",
    "mean_arr1 = np.mean(arr1)\n",
    "# np.mean() computes the arithmetic mean of the elements in the input array (arr1).\n",
    "# It adds up all the elements in arr1 and divides the sum by the number of elements.\n",
    "\n",
    "# Calculating the standard deviation of the array\n",
    "std_arr1 = np.std(arr1)\n",
    "# np.std() computes the standard deviation of the elements in the input array (arr1).\n",
    "# Standard deviation is a measure of the amount of variation or dispersion in a set of values.\n",
    "# It indicates how spread out the elements of arr1 are from the mean.\n",
    "\n",
    "# Displaying the results\n",
    "print(\"Original Array:\", arr1)\n",
    "print(\"Mean of the Array:\", mean_arr1)\n",
    "print(\"Standard Deviation of the Array:\", std_arr1)\n"
   ]
  },
  {
   "cell_type": "code",
   "execution_count": null,
   "metadata": {},
   "outputs": [],
   "source": [
    "# Generating a range of values\n",
    "range_arr = np.arange(0, 10, 2)\n",
    "\n"
   ]
  },
  {
   "cell_type": "code",
   "execution_count": null,
   "metadata": {},
   "outputs": [],
   "source": [
    "print(\"Range of the Array:\", range_arr)"
   ]
  },
  {
   "cell_type": "code",
   "execution_count": null,
   "metadata": {},
   "outputs": [],
   "source": [
    "# Generating evenly spaced values\n",
    "linspace_arr = np.linspace(0, 1, 5)\n",
    "\n"
   ]
  },
  {
   "cell_type": "code",
   "execution_count": null,
   "metadata": {},
   "outputs": [],
   "source": [
    "print(\"Linspace of the Array:\", linspace_arr)"
   ]
  },
  {
   "cell_type": "code",
   "execution_count": null,
   "metadata": {},
   "outputs": [],
   "source": [
    "# Random number generation\n",
    "random_arr = np.random.rand(3, 3)\n",
    "\n"
   ]
  },
  {
   "cell_type": "code",
   "execution_count": null,
   "metadata": {},
   "outputs": [],
   "source": [
    "print(random_arr)"
   ]
  },
  {
   "cell_type": "code",
   "execution_count": null,
   "metadata": {},
   "outputs": [],
   "source": [
    "# Concatenation of arrays\n",
    "concatenated_arr = np.concatenate((arr1, arr1_reshaped.flatten()))\n",
    "\n"
   ]
  },
  {
   "cell_type": "code",
   "execution_count": null,
   "metadata": {},
   "outputs": [],
   "source": [
    "print(concatenated_arr)"
   ]
  },
  {
   "cell_type": "code",
   "execution_count": null,
   "metadata": {},
   "outputs": [],
   "source": [
    "# Transposing an array\n",
    "transposed_arr2 = arr2.T\n",
    "\n"
   ]
  },
  {
   "cell_type": "code",
   "execution_count": null,
   "metadata": {},
   "outputs": [],
   "source": [
    "print(transposed_arr2)"
   ]
  },
  {
   "cell_type": "code",
   "execution_count": null,
   "metadata": {},
   "outputs": [],
   "source": [
    "# Saving and loading arrays\n",
    "np.save('saved_array.npy', arr1)\n",
    "loaded_arr = np.load('saved_array.npy')\n",
    "\n"
   ]
  }
 ],
 "metadata": {
  "kernelspec": {
   "display_name": "Python 3",
   "language": "python",
   "name": "python3"
  },
  "language_info": {
   "codemirror_mode": {
    "name": "ipython",
    "version": 3
   },
   "file_extension": ".py",
   "mimetype": "text/x-python",
   "name": "python",
   "nbconvert_exporter": "python",
   "pygments_lexer": "ipython3",
   "version": "3.11.1"
  },
  "orig_nbformat": 4,
  "vscode": {
   "interpreter": {
    "hash": "70ea9b34cbc53b1d4738ed2b3d3b11c4a94af6ca9e7a15b1129762d5e235f02c"
   }
  }
 },
 "nbformat": 4,
 "nbformat_minor": 2
}
